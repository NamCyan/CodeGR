{
 "cells": [
  {
   "cell_type": "code",
   "execution_count": 125,
   "id": "67670e66",
   "metadata": {},
   "outputs": [],
   "source": [
    "import datasets\n",
    "import random\n",
    "import numpy as np\n",
    "import json"
   ]
  },
  {
   "cell_type": "code",
   "execution_count": 126,
   "id": "6cbda6ee",
   "metadata": {},
   "outputs": [],
   "source": [
    "random.seed(313)"
   ]
  },
  {
   "cell_type": "code",
   "execution_count": 127,
   "id": "8d2d78fa",
   "metadata": {},
   "outputs": [
    {
     "name": "stderr",
     "output_type": "stream",
     "text": [
      "Using custom data configuration train_small+test+validation-python-68fcc194a9524267\n",
      "Reusing dataset the_vault_function (cache/TV/Fsoft-AIC___the_vault_function/train_small+test+validation-python-68fcc194a9524267/1.0.0/94ac19b6282f05bc91de49dd4a32dd9a4c1bd1e0d1b8233e71c60cdae9952ca1)\n",
      "100%|██████████| 3/3 [00:00<00:00, 28.26it/s]\n"
     ]
    }
   ],
   "source": [
    "data = datasets.load_dataset(\"Fsoft-AIC/the-vault-function\", cache_dir='cache/TV', split_set=[\"train/small\", \"test\", \"validation\"], languages=['python'])"
   ]
  },
  {
   "cell_type": "code",
   "execution_count": 128,
   "id": "74abdc3b",
   "metadata": {},
   "outputs": [],
   "source": [
    "data_train = data[\"train_small\"]\n",
    "rand_inds = list(range(data_train.num_rows))\n",
    "random.shuffle(rand_inds)"
   ]
  },
  {
   "cell_type": "code",
   "execution_count": 130,
   "id": "4c2f2c26",
   "metadata": {},
   "outputs": [],
   "source": [
    "title_set = set()\n",
    "current_docid = 0"
   ]
  },
  {
   "cell_type": "code",
   "execution_count": 131,
   "id": "4bbad9b5",
   "metadata": {},
   "outputs": [],
   "source": [
    "with open('TV_10k_multi_task_train.json', 'w') as tf:\n",
    "    for ind in rand_inds[:18000]:\n",
    "        title = str.replace(data_train[ind][\"code\"], '\\n', ' ')\n",
    "        if title not in title_set:\n",
    "            title_set.add(title)\n",
    "            question_text = str.replace(data_train[ind]['docstring'], '\\n', ' ')\n",
    "            doc_text = str.replace(data_train[ind][\"code\"], '\\n', ' ')\n",
    "            jitem = json.dumps({'text_id': str(current_docid), 'text': 'document: ' + doc_text})\n",
    "            tf.write(jitem + '\\n')\n",
    "            jitem = json.dumps({'text_id': str(current_docid), 'text': 'question: ' + question_text})\n",
    "            tf.write(jitem + '\\n')\n",
    "            current_docid += 1"
   ]
  },
  {
   "cell_type": "code",
   "execution_count": 132,
   "id": "474f891f",
   "metadata": {},
   "outputs": [],
   "source": [
    "data_test = data[\"test\"]\n",
    "rand_inds = list(range(data_test.num_rows))\n",
    "random.shuffle(rand_inds)"
   ]
  },
  {
   "cell_type": "code",
   "execution_count": 133,
   "id": "88e66ae7",
   "metadata": {},
   "outputs": [
    {
     "data": {
      "text/plain": [
       "21651"
      ]
     },
     "execution_count": 133,
     "metadata": {},
     "output_type": "execute_result"
    }
   ],
   "source": [
    "max(rand_inds)"
   ]
  },
  {
   "cell_type": "code",
   "execution_count": 134,
   "id": "97deb555",
   "metadata": {},
   "outputs": [],
   "source": [
    "with open('TV_10k_multi_task_test.json', 'w') as tf:\n",
    "    for ind in rand_inds[:2000]:\n",
    "        title = str.replace(data_test[ind][\"code\"], '\\n', ' ')\n",
    "        if title not in title_set:\n",
    "            title_set.add(title)\n",
    "            question_text = str.replace(data_test[ind]['docstring'], '\\n', ' ')\n",
    "            doc_text = str.replace(data_test[ind][\"code\"], '\\n', ' ')\n",
    "            jitem = json.dumps({'text_id': str(current_docid), 'text': 'question: ' + question_text})\n",
    "            tf.write(jitem + '\\n')\n",
    "            current_docid += 1"
   ]
  },
  {
   "cell_type": "code",
   "execution_count": 121,
   "id": "68ad48d1",
   "metadata": {},
   "outputs": [
    {
     "name": "stdout",
     "output_type": "stream",
     "text": [
      "[0]\n"
     ]
    }
   ],
   "source": [
    "rank_list = [12, 7, 3, 5, 9, 1, 2, 4, 6, 10]\n",
    "label = 12\n",
    "\n",
    "hits = np.where(np.array(rank_list)[:10] == label)[0]\n",
    "print(hits)  # Output: [3]"
   ]
  },
  {
   "cell_type": "code",
   "execution_count": 122,
   "id": "96286167",
   "metadata": {},
   "outputs": [
    {
     "name": "stderr",
     "output_type": "stream",
     "text": [
      "/tmp/ipykernel_306017/204364963.py:1: RuntimeWarning: divide by zero encountered in divide\n",
      "  1 / hits\n"
     ]
    },
    {
     "data": {
      "text/plain": [
       "array([inf])"
      ]
     },
     "execution_count": 122,
     "metadata": {},
     "output_type": "execute_result"
    }
   ],
   "source": [
    "1 / hits"
   ]
  },
  {
   "cell_type": "code",
   "execution_count": 123,
   "id": "81506fc0",
   "metadata": {},
   "outputs": [
    {
     "name": "stderr",
     "output_type": "stream",
     "text": [
      "/tmp/ipykernel_306017/4175360850.py:1: RuntimeWarning: divide by zero encountered in scalar divide\n",
      "  1 / hits[0]\n"
     ]
    },
    {
     "data": {
      "text/plain": [
       "np.float64(inf)"
      ]
     },
     "execution_count": 123,
     "metadata": {},
     "output_type": "execute_result"
    }
   ],
   "source": [
    "1 / hits[0]"
   ]
  },
  {
   "cell_type": "code",
   "execution_count": 124,
   "id": "7383f67c",
   "metadata": {},
   "outputs": [
    {
     "name": "stdout",
     "output_type": "stream",
     "text": [
      "4.17.0\n"
     ]
    }
   ],
   "source": [
    "import transformers\n",
    "print(transformers.__version__)"
   ]
  },
  {
   "cell_type": "code",
   "execution_count": null,
   "id": "ca8fa680",
   "metadata": {},
   "outputs": [],
   "source": []
  }
 ],
 "metadata": {
  "kernelspec": {
   "display_name": "dsi",
   "language": "python",
   "name": "python3"
  },
  "language_info": {
   "codemirror_mode": {
    "name": "ipython",
    "version": 3
   },
   "file_extension": ".py",
   "mimetype": "text/x-python",
   "name": "python",
   "nbconvert_exporter": "python",
   "pygments_lexer": "ipython3",
   "version": "3.9.23"
  }
 },
 "nbformat": 4,
 "nbformat_minor": 5
}
